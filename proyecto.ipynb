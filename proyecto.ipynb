{
 "cells": [
  {
   "cell_type": "markdown",
   "metadata": {},
   "source": [
    "# Los restaurantes en La Habana"
   ]
  },
  {
   "cell_type": "markdown",
   "metadata": {},
   "source": [
    "# Con este proyecto se pretende realizar un estudio acerca de los restaurantes de La Habana. Para poder realizarlo hubo que recorrer los diferentes 15 municipios de la provincia, donde me enfrenté a varios problemas: habian municipios que tenian una seria escasez de sitios, esto podria estar dado a que su ubicacion remota hace poco rentable un negocio, ya que no hay circulacion de turistas y la masa poblacional no es suficiente para que sean rentables muchos establecimeintos. Por ejemplo en Plaza de la Revolucion se encontraban sitios de diferentes estilos por doquier, al igual que en La Habana Vieja, Centro Habana y Playa, sin embargo en sitios como Regla, Cotorro, Arroyo Naranjo, Cerro, La Lisa se notaba claramente como disminuian la cantidad de establecimeintos.\n",
    "La informacion que se considero de interes para el publico y para realizar un estudio fue:\n",
    "- El nombre del lugar\n",
    "- La direccion\n",
    "- El horario de trabajo\n",
    "- Si tienen planta electrica\n",
    "- El menu con sus precios\n",
    "- Si tiene wifi para los clientes\n",
    "- Si tienen parqueo\n",
    "- Numero de telefono al que llamar\n",
    "- Si tienen entregas a domicilio y que zonas cubren\n",
    "- si tienen alguna web o red social\n",
    "- Si cobran el por ciento por atencion al cliente\n",
    "- Los metodos de pago aceptados\n",
    "- La capacidad que presenta el lugar\n",
    "- La calificacion recibida en diferentes plataformas(los lugares que la presentaban)\n",
    "- La especialidad de la comida\n",
    "- El tipo de establecimeinto\n",
    "- Si realizan reservaciones o consumes en orden de llegada\n",
    "Con todos estos datos se pude llegar a realizar ciertos planteamientos:"
   ]
  },
  {
   "cell_type": "code",
   "execution_count": 1,
   "metadata": {},
   "outputs": [
    {
     "name": "stdout",
     "output_type": "stream",
     "text": [
      "Datos del archivo 1: Calzada Aldabo % 12 y 13, Aldabo, Boyeros\n",
      "Datos del archivo 2: \n",
      "Datos del archivo 3: calle 100, pasando Aldabo, Boyeros\n",
      "Datos del archivo 4: calle 100, pasando Aldabo, Boyeros\n",
      "Datos del archivo 5: \n",
      "Datos del archivo 6: San NicolÃ¡s #309 entre Neptuno y San Miguel, Centro Habana\n",
      "Datos del archivo 7: avenida 101 entre 18 y 20 centro cotorro\n",
      "Datos del archivo 8: calle 22A % 65 y 63, reparto AmÃ©rica, Cotorro\n",
      "Datos del archivo 9: \n",
      "Datos del archivo 10: calle 58 nÃºmero 6712 % 67 y 69, Cotorro\n",
      "Datos del archivo 11: calle 107 nÃºmero 2811\n",
      "Datos del archivo 12: calle 105 entre 20 y 26, Cotorro\n",
      "Datos del archivo 13: avenida 101 nÃºmero 3006 entre 30 y 32 magdalena cotorro\n",
      "Datos del archivo 14: calle primera entre 220 y 221\n",
      "Datos del archivo 15: Ave.71 % 24 y 26, La Brisas, Cotorro\n",
      "Datos del archivo 16: Ave.71 % 46 y 48, Loteria, Cotorro\n"
     ]
    }
   ],
   "source": [
    "import os\n",
    "import json\n",
    "\n",
    "# Ruta a la carpeta que contiene los archivos JSON\n",
    "ruta_carpeta = 'Lugares'\n",
    "\n",
    "# Lista para almacenar los datos de todos los archivos\n",
    "todos_los_datos = []\n",
    "\n",
    "# Itera sobre todos los archivos en la carpeta\n",
    "for nombre_directorio in os.listdir(ruta_carpeta):\n",
    "    ruta_domain = os.path.join(ruta_carpeta, nombre_directorio)\n",
    "    for nombre_archivo in os.listdir(ruta_domain):\n",
    "        if nombre_archivo.endswith('.json'):\n",
    "            ruta_archivo = os.path.join(ruta_domain, nombre_archivo)\n",
    "            with open(ruta_archivo, 'r') as archivo:\n",
    "                try:\n",
    "                    datos = json.load(archivo)\n",
    "                    todos_los_datos.append(datos)\n",
    "                except:\n",
    "                    a = 0\n",
    "\n",
    "# Imprime todos los datos leídos\n",
    "for i, datos in enumerate(todos_los_datos):\n",
    "    print(f'Datos del archivo {i + 1}:', datos['adress'])\n"
   ]
  }
 ],
 "metadata": {
  "kernelspec": {
   "display_name": "Python 3",
   "language": "python",
   "name": "python3"
  },
  "language_info": {
   "codemirror_mode": {
    "name": "ipython",
    "version": 3
   },
   "file_extension": ".py",
   "mimetype": "text/x-python",
   "name": "python",
   "nbconvert_exporter": "python",
   "pygments_lexer": "ipython3",
   "version": "3.11.9"
  }
 },
 "nbformat": 4,
 "nbformat_minor": 2
}
