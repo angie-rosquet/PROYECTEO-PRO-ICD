{
 "cells": [
  {
   "cell_type": "markdown",
   "metadata": {},
   "source": [
    "# **Restaurantes en La Habana: un lujo para el paladar🍽️**"
   ]
  },
  {
   "cell_type": "markdown",
   "metadata": {},
   "source": [
    "#### Explicación entre la brecha salarial actual y los precios de los restaurantes."
   ]
  },
  {
   "cell_type": "markdown",
   "metadata": {},
   "source": [
    "***\n",
    "#                              Introducción"
   ]
  },
  {
   "cell_type": "markdown",
   "metadata": {},
   "source": [
    " Estaba en una terracita en La Habana Vieja bajo un cielo estrellado, el sonido de la ciudad era música mientas degustaba mi cóctel de camarones acompañado de mi mojito, ¡y apenas comenzaba! Entonces en un parpadeo…¡zaz! Despierto sudoroso y sobresaltado: ¿¡Cómo iba a pagar la cuenta?! ¿¡Los ahorros para el 31?! ¡Desaparecidos en un abrir y cerrar de ojos! \n",
    " Este es un escenario más común de lo que parece para muchos cubanos, que se enfrentan a la difícil decisión entre cubrir las necesidades básicas o darse cuenta de ese lujo tan deseado de disfrutar de una buena comida fuera de casa. Un simple paseo por un restaurante elegante en la Plaza puede convertirse en una carga económica, algo que se convierte en un sueño lejano para muchos, o peor aún, en una pesadilla de fin de mes.  \n",
    " Pero… ¿realmente es tan inalcanzable como parece? ¿Cuántas horas tendrían que trabajar un trabajador cubano promedio para permitirse este lujo?"
   ]
  },
  {
   "cell_type": "markdown",
   "metadata": {},
   "source": [
    "Para responder a esta pregunta, hemos creado un análisis detallado de los precios de la comida en varios restaurantes de La Habana, comparando estos precios con los salarios promedio de diferentes profesiones. Al mirar los precios y calcular las horas de trabajo necesarias, no solo veremos cuán accesibles son estas experiencias gastronómicas, sino también cómo los precios en la ciudad pueden afectar las decisiones cotidianas de los cubanos.\n",
    "\n",
    "Por ejemplo, ¿qué tan lejos está el salario de un enfermero o un maestro del costo de una cena para dos en un restaurante elegante? ¿Y qué tal un retirado, que trabajó durante 30 años? Con esta información, no solo entenderemos cómo las decisiones de consumo se ven influenciadas por los ingresos, sino también cómo esas decisiones se sienten, se viven, y se experimentan en la vida diaria de la ciudad.\n",
    "\n",
    "---"
   ]
  },
  {
   "cell_type": "markdown",
   "metadata": {},
   "source": [
    "# Desarrollo"
   ]
  },
  {
   "cell_type": "markdown",
   "metadata": {},
   "source": [
    "Para poder responder a todas las interrogantes que puedan surgir durante la realizacion de este proyecto se va a necesitar la utilizacion de las siguientes funciones:"
   ]
  },
  {
   "cell_type": "code",
   "execution_count": null,
   "metadata": {},
   "outputs": [],
   "source": [
    "import biblioteca_propia as bp"
   ]
  },
  {
   "cell_type": "markdown",
   "metadata": {},
   "source": [
    "No solo se necesitan estos modulos o funciones, sino de informacion, no se puede analizar nada sino la informacion de estos lugares, para ello se hizo una seleccion de 205 restaurantes, bares-restuarnates o bares de diferentes municipios de La Habana. A continuacion se presenta el dataframe con el que se va a trabajar, el cual contiene la informacion de los restaurantes:"
   ]
  },
  {
   "cell_type": "code",
   "execution_count": null,
   "metadata": {},
   "outputs": [],
   "source": [
    "df = bp.load_df(bp.route_municipalities)\n",
    "df"
   ]
  },
  {
   "cell_type": "markdown",
   "metadata": {},
   "source": [
    "Como se puede observar son 205 filas, las cuales corresponden a los 205 lugares analizados, y 16 columnas las cuales corresponden a la estructura que se le designo a los archivos JSON en donde se recogio toda la informacion, los cuales presentan la siguiente estructura:\n",
    "```json\n",
    "{\n",
    "  \"name\": \"Nombre del Restaurante\",\n",
    "  \"address\": \"Dirección completa del restaurante\",\n",
    "  \"schedule\": {\n",
    "    \"monday\": {\"open\": \"HH:mm\", \"close\": \"HH:mm\"},\n",
    "    \"tuesday\": {\"open\": \"HH:mm\", \"close\": \"HH:mm\"},\n",
    "    \"wednesday\": {\"open\": \"HH:mm\", \"close\": \"HH:mm\"},\n",
    "    \"thursday\": {\"open\": \"HH:mm\", \"close\": \"HH:mm\"},\n",
    "    \"friday\": {\"open\": \"HH:mm\", \"close\": \"HH:mm\"},\n",
    "    \"saturday\": {\"open\": \"HH:mm\", \"close\": \"HH:mm\"},\n",
    "    \"sunday\": {\"open\": \"HH:mm\", \"close\": \"HH:mm\"}\n",
    "  },\n",
    "  \"contacts\" : {\n",
    "    \"phone_number\": null,\n",
    "    \"mobile\" : null,\n",
    "    \"website\": \"URL del sitio web\",\n",
    "    \"instagram\": \"@nombre de usuario instagram\",\n",
    "    \"facebook\": \"URL de la página de Facebook\"\n",
    "  },\n",
    "  \"type_establishment\": \"Tipo de establecimiento\",\n",
    "  \"specialty\": [],\n",
    "  \"parking\": true,\n",
    "  \"reservations\": true,\n",
    "  \"payment_methods\": {\n",
    "    \"cash_national\": true,\n",
    "    \"digital_transfer_national\": true,\n",
    "    \"usd_cash\": true,\n",
    "    \"usd_transfer\": true,\n",
    "    \"mlc\": true\n",
    "  },\n",
    "  \"delivery_areas\": true,\n",
    "  \"power_generator\": true ,\n",
    "  \"menu\": {\n",
    "    \"appetizer\": [\n",
    "      {\"name\": \"Nombre del entrante\", \"price\": 0 },\n",
    "      {\"name\": \"Nombre del entrante\", \"price\": 0}\n",
    "    ],\n",
    "    \"main_course\": [\n",
    "      {\"name\": \"Nombre del plato\", \"price\": 0 },\n",
    "      {\"name\": \"Nombre del plato\", \"price\": 0 }\n",
    "    ],\n",
    "    \"garrison\": [\n",
    "      {\"name\": \"Nombre del acompañamiento\", \"price\": 0 },\n",
    "      {\"name\": \"Nombre del acompañamiento\", \"price\": 0 }\n",
    "    ],\n",
    "    \"desserts\": [\n",
    "      {\"name\": \"Nombre del postre\", \"price\": 0 },\n",
    "      {\"name\": \"Nombre del postre\", \"price\": 0}\n",
    "    ],\n",
    "    \"drinks\": [\n",
    "      {\"name\": \"Nombre de la bebida\", \"price\": 0 },\n",
    "      {\"name\": \"Nombre de la bebida\", \"price\": 0 }\n",
    "    ]\n",
    "  },\n",
    "  \"service_charge_percentage\": 0\n",
    "}"
   ]
  },
  {
   "cell_type": "markdown",
   "metadata": {},
   "source": [
    "A continuación, presentaré las profesiones que se tendran en cuenta en el proyecto con sus salarios en Cuba:  \n",
    "(esta informacion fue extraida de la Gaceta Oficial No.69 de 2020) "
   ]
  },
  {
   "cell_type": "code",
   "execution_count": null,
   "metadata": {},
   "outputs": [],
   "source": [
    "professions = bp.show_professions_salary(bp.json_salary_cuba)\n",
    "professions"
   ]
  },
  {
   "cell_type": "markdown",
   "metadata": {},
   "source": [
    "***\n",
    "La Habana es una provincia muy heterogenea cada municipio tiene su propia identidad, historia y características distintivas, que se traducen en variaciones en el estilo de vida de sus habitantes, el tipo de actividades comerciales y las infraestructuras disponibles. Estos municipios varían en términos de desarrollo urbano, nivel de servicios, acceso a recursos y la distribución de la población. Por ello tome tres municipios que considere interesante analizar por separado porque cada uno tiene su magia:  \n",
    "\n",
    "~**Playa** es uno de los municipios más exclusivos y cosmopolitas de La Habana. Se ubica en la zona oeste de la ciudad y se caracteriza por su gran desarrollo urbanístico y su cercanía a la costa. Aquí se encuentran algunas de las áreas más modernas de la capital, con viviendas de alto estándar, centros de negocios internacionales y amplias avenidas. La presencia de embajadas, sedes diplomáticas y zonas de lujo resalta la condición de municipio de clase alta. Además, Playa alberga la famosa zona de Miramar, un barrio residencial de élite, y Cubanacán, que cuenta con complejos turísticos y recreativos. Por lo que se podria considerar como un municipio mas exclusivo.  \n",
    "\n",
    "~**Centro Habana** es uno de los municipios más emblemáticos y, al mismo tiempo, uno de los más contrastantes de la ciudad. Su ubicación en el corazón de la Habana lo convierte en un lugar muy rentable para negocios por lo que hay una mayor densidad poblacional y en los lugares mas intrincados las cosas son un poco...peligrosas por la gran diversidad de personas que aqui residen. Por lo que lo convierte en un punto de analisis pues no es exclusivo pero es donde residen la mayoria de habaneros.\n",
    "\n",
    "~Mientras que **Diez de Octubre** es un municipio mas pequeño, con menos actividad urbana y no es reconocido por ser muy lujoso, por lo que podria ser interesante contrastar estos tres municipios los cuales presentan caracteristicas diferentes.  \n",
    "\n",
    "***"
   ]
  },
  {
   "cell_type": "markdown",
   "metadata": {},
   "source": [
    "Para un analisis mas profundo de estos tres municipios se seleccionaron 30 lugares aleatorios por cada municipio, mientras que de los otros 12 se seleccionaron 10. Se va a tomar una comida en un restaurante como un plato principal y una bebida. Observando la estructura del json observamos que hay 5 categorias las cuales corresponden a: entrantes(tostones, croquetas y picadera), plato principal(pesacados, pollos, res), acompañamientos(ensaladas, arroces), postre(flan, tartas, helados) y bebidas(cerveza, agua, jugos). Pero si analizamos la cantidad de lugares que tienen todas las categorias resulta lo siguiente:"
   ]
  },
  {
   "cell_type": "code",
   "execution_count": null,
   "metadata": {},
   "outputs": [],
   "source": [
    "filtred = bp.filter_restaurant(\"Playa\")\n",
    "bp.plot_menu_categories_pie_chart(filtred, \"Playa\")"
   ]
  },
  {
   "cell_type": "code",
   "execution_count": null,
   "metadata": {},
   "outputs": [],
   "source": [
    "filtred_ch = bp.filter_restaurant(\"Centro Habana\")\n",
    "bp.plot_menu_categories_pie_chart(filtred_ch, \"Centro Habana\")"
   ]
  },
  {
   "cell_type": "code",
   "execution_count": null,
   "metadata": {},
   "outputs": [],
   "source": [
    "filtred_d= bp.filter_restaurant(\"Diez de Octubre\")\n",
    "bp.plot_menu_categories_pie_chart(filtred_d, \"Diez de Octubre\")"
   ]
  },
  {
   "cell_type": "markdown",
   "metadata": {},
   "source": [
    "Aunque en Centro Habana no sea tan alarmante la cantidad de sitios que no tienen las 5 categorias, ya que el 10% de 30 sitios son solo 3 restaurantes vemos que en playa representan un 46.7%, que corresponden a 14 restaurantes, y en Diez de Octubre corresponde a un 33.3%, o sea a 10 restaurantes, por lo que no podriamos elegir como una cena un plato de cada categoria. Si hacemos un analisis de cada categoria ocurre lo siguiente:"
   ]
  },
  {
   "cell_type": "code",
   "execution_count": null,
   "metadata": {},
   "outputs": [],
   "source": [
    "bp.plot_category_comparison_for_municipalities(df)"
   ]
  },
  {
   "cell_type": "markdown",
   "metadata": {},
   "source": [
    "Con esta grafica podemos observar que Diez de Octubre es el unico municipio el cual tiene un 100% de restaurantes con la categoria de menu principal, mientras que en Playa y Centro Habana hay dos lugares los cuales no presentan la categorya de menu principal, otra categoria que puede llamarnos la atencion es la de bebidas, donde el 100% de los restaurantes de Centro Habana tienen en su menu opciones de bebidas, a diferencia de Playa donde hay dos sitios que no presentan esta ipcion y Diez de Octubre con dos, vemos que ningun municipio coincide en todas la categorias, pero tiene valores bastantes cercanos los de plato principal y bebidas, ademas tomo estos dos platos como una comida ya que es lo que usualmente vamos a consumir a un sitio, su plato fuerte."
   ]
  },
  {
   "cell_type": "markdown",
   "metadata": {},
   "source": [
    "Si nos interesa saber cual es el precio promedio de una comida en estos municipios tendriamos que ver cuales son los lugares que ofertan lo que considero como una comida, un plato principal y una bebida, entonces nuestro analisis de una comida promedio quedaria para los siguientes restaurantes:"
   ]
  },
  {
   "cell_type": "code",
   "execution_count": null,
   "metadata": {},
   "outputs": [],
   "source": [
    "categories = bp.filter_restaurants_by_categories(df, [\"Centro Habana\", \"Diez de Octubre\", \"Playa\"], {\"drinks\": \"drinks\", \"main_course\": \"main_course\"})\n",
    "categories"
   ]
  },
  {
   "cell_type": "markdown",
   "metadata": {},
   "source": [
    "Entonces quedaron 27 restaurantes de Centro Habana, 28 de Diez de Octubre y 24 de Playa.  \n",
    "Con esta informacion ya podemos hacer un analisis de cada uno de estos municipios."
   ]
  },
  {
   "cell_type": "markdown",
   "metadata": {},
   "source": [
    "# Centro Habana"
   ]
  },
  {
   "cell_type": "code",
   "execution_count": null,
   "metadata": {},
   "outputs": [],
   "source": [
    "prom_ch_mc = bp.find_average_price_main_course(categories, \"Centro Habana\")\n",
    "prom_ch_d= bp.find_average_price_drinks(categories, \"Centro Habana\")\n",
    "\n",
    "prom_ch_d"
   ]
  },
  {
   "cell_type": "markdown",
   "metadata": {},
   "source": []
  },
  {
   "cell_type": "markdown",
   "metadata": {},
   "source": [
    "## ¿Cuántas horas de trabajo para una salida a un restaurante elegante?\n",
    "Ahora bien, ¿qué pasa si nos dirigimos a los restaurantes más exclusivos de La Habana, esos que ofrecen experiencias gourmet y cócteles atractivos? Un salario máximo de 9510 CUP puede parecer una cifra alta, pero ¿es suficiente para disfrutar de una velada en estos lugares? Dependiendo de la oferta y el tipo de comida, un salario mínimo de 2100 CUP sería insuficiente para cubrir una comida de lujo sin comprometer otros gastos del hogar.\n",
    "\n"
   ]
  },
  {
   "cell_type": "markdown",
   "metadata": {},
   "source": [
    "Si establecemos como una comida como: un entrante, un plato principal, una guarnicion, el postre y una bebida podemos observar que si mostramos el precio promedio de esta comida en cada uno de los lugares por municipio se observa el siguiente grafico:"
   ]
  },
  {
   "cell_type": "markdown",
   "metadata": {},
   "source": [
    "Las 15 gráficas de los municipios de La Habana ofrecen una representación visual clara de las diferencias en los precios de la comida a través de la ciudad. Al analizar las tendencias, notamos que **Playa**, **La Habana Vieja**, **Centro Habana**, y **Plaza** se destacan como las zonas más caras para comer. Este patrón tiene una explicación lógica que está vinculada a la ubicación, la oferta turística y el tipo de establecimientos presentes en estas áreas con su ambiente más exclusivo, es conocida por albergar restaurantes de alto nivel y resorts, lo que naturalmente eleva el precio de los menús. Al ser un área con más opciones premium y una infraestructura orientada al turismo de lujo, los precios son más altos, reflejando el poder adquisitivo de los turistas internacionales que visitan estos lugares. Pero no fuese justo que un profesional tambien pudiese darse esos \"lujos\"?"
   ]
  },
  {
   "cell_type": "markdown",
   "metadata": {},
   "source": [
    "***\n",
    "# Concluisiones\n",
    "\n",
    "A través de este análisis, se evidencia que el verdadero problema no es el costo de las comidas en los restaurantes, sino la devaluación de la moneda cubana y los salarios insuficientes. Los salarios no reflejan el valor real de la moneda, lo que hace que incluso actividades cotidianas como comer fuera se conviertan en un lujo para la mayoría.\n",
    "\n",
    "Los **profesionales cubanos**, quienes invierten años en su formación y juegan un papel crucial en la sociedad, no reciben una compensación acorde con su preparación. A pesar de ser médicos, profesores o científicos, no pueden cubrir sus necesidades básicas, mucho menos disfrutar de un lujo como comer fuera. Esta realidad, normalizada en la sociedad cubana, muestra un desajuste económico provocado por la devaluación de la moneda, que hace que los salarios no tengan el mismo poder adquisitivo que en otros países.\n",
    "\n",
    "Los precios de los restaurantes no son altos comparados con estándares internacionales; el problema radica en la devaluación de la moneda cubana, que hace inaccesibles los servicios básicos para la mayoría, incluidos los profesionales. \n",
    "\n",
    "En resumen, más allá del costo de una comida, el verdadero desafío está en el **reconocimiento económico y social** que reciben los profesionales cubanos. Es urgente cuestionar este modelo y luchar por un cambio que les garantice una vida digna acorde con su formación y contribución a la sociedad."
   ]
  }
 ],
 "metadata": {
  "kernelspec": {
   "display_name": "Python 3",
   "language": "python",
   "name": "python3"
  },
  "language_info": {
   "codemirror_mode": {
    "name": "ipython",
    "version": 3
   },
   "file_extension": ".py",
   "mimetype": "text/x-python",
   "name": "python",
   "nbconvert_exporter": "python",
   "pygments_lexer": "ipython3",
   "version": "3.12.6"
  }
 },
 "nbformat": 4,
 "nbformat_minor": 2
}
