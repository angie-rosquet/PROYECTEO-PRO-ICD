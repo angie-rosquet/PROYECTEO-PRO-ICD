{
 "cells": [
  {
   "cell_type": "markdown",
   "metadata": {},
   "source": [
    "# Restaurantes en La Habana: un lujo para el paladar"
   ]
  },
  {
   "cell_type": "markdown",
   "metadata": {},
   "source": [
    "## Explicación entre la brecha salarial actual y los precios de los restaurantes."
   ]
  },
  {
   "cell_type": "markdown",
   "metadata": {},
   "source": [
    " Estaba en una terracita en La Habana Vieja bajo un cielo estrellado, el sonido de la ciudad era música mientas degustaba mi cóctel de camarones acompañado de mi mojito, ¡y apenas comenzaba! Entonces en un parpadeo…¡zaz! Despierto sudoroso y sobresaltado: ¿¡Cómo iba a pagar la cuenta?! ¿¡Los ahorros para el 31?! ¡Desaparecidos en un abrir y cerrar de ojos! \n",
    " Lo chistoso es que esta pesadilla es una realidad para un trabajador cubano común, que se encuentra en una trinchera donde hay que elegir entre comprar los mandados y pagar la corriente o esa saliada tan añorada que nunca se da al bar o ir al restaurante tan elegante de Plaza. \n",
    " Pero cabe preguntarse ¿qué cantidad de horas necesito trabajar para disfrutar de alguno de estos sitios?"
   ]
  },
  {
   "cell_type": "code",
   "execution_count": null,
   "metadata": {},
   "outputs": [],
   "source": []
  },
  {
   "cell_type": "code",
   "execution_count": null,
   "metadata": {},
   "outputs": [],
   "source": []
  }
 ],
 "metadata": {
  "kernelspec": {
   "display_name": "Python 3",
   "language": "python",
   "name": "python3"
  },
  "language_info": {
   "codemirror_mode": {
    "name": "ipython",
    "version": 3
   },
   "file_extension": ".py",
   "mimetype": "text/x-python",
   "name": "python",
   "nbconvert_exporter": "python",
   "pygments_lexer": "ipython3",
   "version": "3.12.6"
  }
 },
 "nbformat": 4,
 "nbformat_minor": 2
}
