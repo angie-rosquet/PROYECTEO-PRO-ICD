{
 "cells": [
  {
   "cell_type": "markdown",
   "metadata": {},
   "source": [
    "# **Restaurantes en La Habana: un lujo para el paladar🍽️**"
   ]
  },
  {
   "cell_type": "markdown",
   "metadata": {},
   "source": [
    "#### Explicación entre la brecha salarial actual y los precios de los restaurantes."
   ]
  },
  {
   "cell_type": "markdown",
   "metadata": {},
   "source": [
    " Estaba en una terracita en La Habana Vieja bajo un cielo estrellado, el sonido de la ciudad era música mientas degustaba mi cóctel de camarones acompañado de mi mojito, ¡y apenas comenzaba! Entonces en un parpadeo…¡zaz! Despierto sudoroso y sobresaltado: ¿¡Cómo iba a pagar la cuenta?! ¿¡Los ahorros para el 31?! ¡Desaparecidos en un abrir y cerrar de ojos! \n",
    " Lo chistoso es que esta pesadilla es una realidad para un trabajador cubano común, que se encuentra en una trinchera donde hay que elegir entre comprar los mandados y pagar la corriente o esa saliada tan añorada que nunca se da al bar o ir al restaurante tan elegante de Plaza. \n",
    " Pero cabe preguntarse ¿qué cantidad de horas necesito trabajar para disfrutar de alguno de estos sitios?"
   ]
  },
  {
   "cell_type": "markdown",
   "metadata": {},
   "source": [
    "Para poder realizar este análisis deben conocer la lista de profesiones escogidas, se tuvieron en cuenta solamente los empleos que son remunerados por el estado con sus salarios basicos, además de una parte espacial para los jubilados, y el salario minimo y el maximo. Aqui daremos a conocer este listado con sus salarios:"
   ]
  },
  {
   "cell_type": "code",
   "execution_count": 1,
   "metadata": {},
   "outputs": [
    {
     "name": "stdout",
     "output_type": "stream",
     "text": [
      "                            Profesión  Salario\n",
      "0                              médico     5810\n",
      "1   profesor asistente nivel superior     5060\n",
      "2     profesor titular nivel superior     5560\n",
      "3    profesor auxiliar nivel superior     5310\n",
      "4                profesor nivel medio     4010\n",
      "5   científico o investigador titular     5560\n",
      "6                           enfermero     4610\n",
      "7                          periodista     4010\n",
      "8                      salario mínimo     2100\n",
      "9                         pensionados     1733\n",
      "10                     salario máximo     9510\n"
     ]
    }
   ],
   "source": [
    "import pandas as pd\n",
    "import json\n",
    "import biblioteca_propia as bp\n",
    "cargar_profesiones_y_salarios = bp.show_professions_salary(bp.json_salary_cuba)\n",
    "print(cargar_profesiones_y_salarios)"
   ]
  },
  {
   "cell_type": "markdown",
   "metadata": {},
   "source": [
    "Ahora presentaremos un listado de restaurantes, bares-restaurantes, cafeterias y bares de diferentes municipios de La Habana."
   ]
  },
  {
   "cell_type": "code",
   "execution_count": 2,
   "metadata": {},
   "outputs": [
    {
     "name": "stdout",
     "output_type": "stream",
     "text": [
      "                            0\n",
      "0                     Atlanta\n",
      "1               Casa del Maíz\n",
      "2    Comida Criolla Ocho Vías\n",
      "3                 Doña Almira\n",
      "4                 Don Burguer\n",
      "..                        ...\n",
      "200                 El Pecado\n",
      "201                El Tráfico\n",
      "202                     KY-13\n",
      "203                La Patrona\n",
      "204          Yesterday Havana\n",
      "\n",
      "[205 rows x 1 columns]\n"
     ]
    }
   ],
   "source": [
    "import biblioteca_propia as bp\n",
    "print(bp.filter_restaurants_name())"
   ]
  },
  {
   "cell_type": "markdown",
   "metadata": {},
   "source": [
    "Si desea ver los de algun municipio en especifico puede escribir alguno de los siguientes comandos en la donde se encuentra la variable, por favor hacerlo entre las comillas(\"\"): municipio  \n",
    "-Arroyo Naranjo  \n",
    "-Boyeros   \n",
    "-Centro Habana  \n",
    "-Cerro  \n",
    "-Cotorro  \n",
    "-Diez de Octubre  \n",
    "-Guanabacoa  \n",
    "-Habana del Este  \n",
    "-Habana Vieja  \n",
    "-La Lisa  \n",
    "-Marianao  \n",
    "-Playa  \n",
    "-Plaza de la Revolucion   \n",
    "-Regla  \n",
    "-San Miguel  "
   ]
  },
  {
   "cell_type": "code",
   "execution_count": 4,
   "metadata": {},
   "outputs": [
    {
     "name": "stdout",
     "output_type": "stream",
     "text": [
      "                    name                                            address  \\\n",
      "0          Aroma de Cafe  #5106, Calle 244 entre 51 y 61, La Lisa, La Ha...   \n",
      "1           Juanky's Pan                                               Lisa   \n",
      "2           La Mia Pizza            Avenida 29 entre 202 y 204, La Coronela   \n",
      "3               La Novia  #33013, Calle 51 entre 330 y 332, La Novia del...   \n",
      "4              La Baliza                                            La Lisa   \n",
      "5  La casa del campesino                                            La Lisa   \n",
      "6                    LKG                                            La Lisa   \n",
      "7               Mi Bohio  Finca La Pinta, #2409, Avenida 251 entre 20 y ...   \n",
      "8            Pacomeralgo                                            La Lisa   \n",
      "9     Ranchon Don Martin                                            La Lisa   \n",
      "\n",
      "                                            schedule  \\\n",
      "0  {'monday': {'open': '12:00', 'close': '00:00'}...   \n",
      "1  {'monday': {'open': '11:00', 'close': '24:00'}...   \n",
      "2  {'monday': {'open': '10:30', 'close': '02:00'}...   \n",
      "3  {'monday': {'open': '', 'close': ''}, 'tuesday...   \n",
      "4  {'monday': {'open': '00:00', 'close': '00:00'}...   \n",
      "5  {'monday': {'open': '11:00', 'close': '23:00'}...   \n",
      "6  {'monday': {'open': '11:00', 'close': '22:00'}...   \n",
      "7  {'monday': {'open': '12:00', 'close': '22:00'}...   \n",
      "8  {'monday': {'open': '10:30', 'close': '01:00'}...   \n",
      "9  {'monday': {'open': 'HH:mm', 'close': 'HH:mm'}...   \n",
      "\n",
      "                                            contacts type_establishment  \\\n",
      "0  {'phone_number': '53397639', 'mobile': None, '...          Cafetería   \n",
      "1  {'phone_number': None, 'mobile': None, 'websit...        Restaurante   \n",
      "2  {'phone_number': '51469744 / 72718614', 'mobil...          Cafeteria   \n",
      "3  {'phone_number': '55861545', 'mobile': None, '...        Restaurante   \n",
      "4  {'phone_number': '78322553', 'mobile': '530050...        Restaurante   \n",
      "5  {'phone_number': None, 'mobile': None, 'websit...        Restaurante   \n",
      "6  {'phone_number': None, 'mobile': None, 'websit...        Restaurante   \n",
      "7  {'phone_number': '59526024 / 52907786', 'mobil...        Restaurante   \n",
      "8  {'phone_number': None, 'mobile': None, 'websit...        Restaurante   \n",
      "9  {'phone_number': None, 'mobile': None, 'websit...        Restaurante   \n",
      "\n",
      "                     specialty  parking  reservations  \\\n",
      "0   [Cocina mixta, Coctelería]     True          True   \n",
      "1                 [Snack Food]     True          True   \n",
      "2            [Cocina italiana]     True         False   \n",
      "3  [Cocina criolla e italiana]    False          True   \n",
      "4        [Americana, Italiana]     True         False   \n",
      "5                     [Cubana]     True         False   \n",
      "6                   [Caribeña]    False         False   \n",
      "7               [Cocina mixta]     True          True   \n",
      "8                   [Italiana]    False         False   \n",
      "9                     [Cubana]     True          True   \n",
      "\n",
      "                                     payment_methods delivery_areas  \\\n",
      "0  {'cash_national': True, 'digital_transfer_nati...          False   \n",
      "1  {'cash_national': True, 'digital_transfer_nati...           True   \n",
      "2  {'cash_national': True, 'digital_transfer_nati...    [La Habana]   \n",
      "3  {'cash_national': True, 'digital_transfer_nati...          False   \n",
      "4  {'cash_national': True, 'digital_transfer_nati...           True   \n",
      "5  {'cash_national': True, 'digital_transfer_nati...          False   \n",
      "6  {'cash_national': True, 'digital_transfer_nati...          False   \n",
      "7  {'cash_national': True, 'digital_transfer_nati...    [La Habana]   \n",
      "8  {'cash_national': True, 'digital_transfer_nati...          False   \n",
      "9  {'cash_national': True, 'digital_transfer_nati...           True   \n",
      "\n",
      "   power_generator                                               menu  \\\n",
      "0            False  {'appetizer': [{'name': 'Nachos con salsa', 'p...   \n",
      "1             True  {'appetizer': [{'name': 'Croquetas de Jamon', ...   \n",
      "2            False  {'appetizer': [{'name': 'Entremes de jamon y q...   \n",
      "3            False  {'appetizer': [{'name': 'Croquetas de la casa'...   \n",
      "4            False  {'appetizer': [], 'main_course': [{'name': 'Sa...   \n",
      "5            False  {'appetizer': [{'name': 'Entremes de embuido y...   \n",
      "6            False  {'appetizer': [], 'main_course': [{'name': 'Bi...   \n",
      "7            False  {'appetizer': [{'name': 'Croquetas de la casa'...   \n",
      "8            False  {'appetizer': [{'name': 'Entremes de jamon y q...   \n",
      "9             True  {'appetizer': [{'name': 'Ensalada Fría', 'pric...   \n",
      "\n",
      "   service_charge_percentage  \\\n",
      "0                        0.0   \n",
      "1                        0.0   \n",
      "2                        0.0   \n",
      "3                        0.0   \n",
      "4                        0.0   \n",
      "5                        0.0   \n",
      "6                        0.0   \n",
      "7                        NaN   \n",
      "8                        0.0   \n",
      "9                        0.0   \n",
      "\n",
      "                                         description  \n",
      "0                                                NaN  \n",
      "1                                                NaN  \n",
      "2                                                NaN  \n",
      "3                                                NaN  \n",
      "4                                                NaN  \n",
      "5                                                NaN  \n",
      "6                                                NaN  \n",
      "7  Mi Bohio es un restaurante especializado en co...  \n",
      "8                                                NaN  \n",
      "9                                                NaN  \n"
     ]
    }
   ],
   "source": [
    "import biblioteca_propia as bp\n",
    "municipio = \"La Lisa\"\n",
    "print(bp.load_for_municipality(municipio))"
   ]
  },
  {
   "cell_type": "markdown",
   "metadata": {},
   "source": [
    "Si establecemos como una comida como: un entrante, un plato principal, una guarnicion, el postre y una bebida podemos obesrvar que si mostramos el precio promedio de esta comida en cada uno de los lugares por municipio se observa el siguiente grafico:"
   ]
  },
  {
   "cell_type": "markdown",
   "metadata": {},
   "source": [
    "# Arroyo Naranjo"
   ]
  },
  {
   "cell_type": "code",
   "execution_count": null,
   "metadata": {},
   "outputs": [],
   "source": []
  }
 ],
 "metadata": {
  "kernelspec": {
   "display_name": "Python 3",
   "language": "python",
   "name": "python3"
  },
  "language_info": {
   "codemirror_mode": {
    "name": "ipython",
    "version": 3
   },
   "file_extension": ".py",
   "mimetype": "text/x-python",
   "name": "python",
   "nbconvert_exporter": "python",
   "pygments_lexer": "ipython3",
   "version": "3.12.6"
  }
 },
 "nbformat": 4,
 "nbformat_minor": 2
}
