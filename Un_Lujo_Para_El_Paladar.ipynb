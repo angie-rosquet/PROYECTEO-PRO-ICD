{
 "cells": [
  {
   "cell_type": "markdown",
   "metadata": {},
   "source": [
    "# **Restaurantes en La Habana: un lujo para el paladar🍽️**"
   ]
  },
  {
   "cell_type": "markdown",
   "metadata": {},
   "source": [
    "#### Explicación entre la brecha salarial actual y los precios de los restaurantes."
   ]
  },
  {
   "cell_type": "markdown",
   "metadata": {},
   "source": [
    "***\n",
    "#                              Introducción"
   ]
  },
  {
   "cell_type": "markdown",
   "metadata": {},
   "source": [
    " Estaba en una terracita en La Habana Vieja bajo un cielo estrellado, el sonido de la ciudad era música mientas degustaba mi cóctel de camarones acompañado de mi mojito, ¡y apenas comenzaba! Entonces en un parpadeo…¡zaz! Despierto sudoroso y sobresaltado: ¿¡Cómo iba a pagar la cuenta?! ¿¡Los ahorros para el 31?! ¡Desaparecidos en un abrir y cerrar de ojos! \n",
    " Este es un escenario más común de lo que parece para muchos cubanos, que se enfrentan a la difícil decisión entre cubrir las necesidades básicas o darse cuenta de ese lujo tan deseado de disfrutar de una buena comida fuera de casa. Un simple paseo por un restaurante elegante en la Plaza puede convertirse en una carga económica, algo que se convierte en un sueño lejano para muchos, o peor aún, en una pesadilla de fin de mes.  \n",
    " Pero… ¿realmente es tan inalcanzable como parece? ¿Cuántas horas tendrían que trabajar un trabajador cubano promedio para permitirse este lujo?"
   ]
  },
  {
   "cell_type": "markdown",
   "metadata": {},
   "source": [
    "Para responder a esta pregunta, hemos creado un análisis detallado de los precios de la comida en varios restaurantes de La Habana, comparando estos precios con los salarios promedio de diferentes profesiones. Al mirar los precios y ver la relación entre los precios y salarios veremos cuán accesibles pueden llegar a ser, o no, estas experiencias gastronómicas.\n",
    "\n",
    "Por ejemplo, ¿qué tan lejos está el salario de un medico o un maestro del costo de una cena en un restaurante elegante? ¿Y qué tal un retirado, que trabajó durante 30 años?\n",
    "\n",
    "---"
   ]
  },
  {
   "cell_type": "markdown",
   "metadata": {},
   "source": [
    "# Desarrollo"
   ]
  },
  {
   "cell_type": "markdown",
   "metadata": {},
   "source": [
    "Para poder responder a todas las interrogantes que puedan surgir durante la realización de este proyecto se va a codificar todo en el archivo bilioteca_propia.py, y en la siguiente celda se va a importar esta biblioteca para su empleo:"
   ]
  },
  {
   "cell_type": "code",
   "execution_count": null,
   "metadata": {},
   "outputs": [],
   "source": [
    "import biblioteca_propia as bp"
   ]
  },
  {
   "cell_type": "markdown",
   "metadata": {},
   "source": [
    "No solo se necesitan estas funciones, sin información no se puede analizar nada, para ello se hizo una seleccion de 205 restaurantes, bares-restuarnates o bares de diferentes municipios de La Habana. A continuacion se presenta el DataFrame con el que se va a trabajar, el cual contiene la información de los restaurantes:"
   ]
  },
  {
   "cell_type": "code",
   "execution_count": null,
   "metadata": {},
   "outputs": [],
   "source": [
    "df = bp.load_df(bp.route_municipalities)\n",
    "df"
   ]
  },
  {
   "cell_type": "markdown",
   "metadata": {},
   "source": [
    "Como se puede observar son 205 filas, las cuales corresponden a los 205 lugares analizados, y 16 columnas las cuales corresponden a la estructura que se le designo a los archivos JSON en donde se recogió toda la informacion, los cuales presentan la siguiente estructura:\n",
    "```json\n",
    "{\n",
    "  \"name\": \"Nombre del Restaurante\",\n",
    "  \"address\": \"Dirección completa del restaurante\",\n",
    "  \"schedule\": {\n",
    "    \"monday\": {\"open\": \"HH:mm\", \"close\": \"HH:mm\"},\n",
    "    \"tuesday\": {\"open\": \"HH:mm\", \"close\": \"HH:mm\"},\n",
    "    \"wednesday\": {\"open\": \"HH:mm\", \"close\": \"HH:mm\"},\n",
    "    \"thursday\": {\"open\": \"HH:mm\", \"close\": \"HH:mm\"},\n",
    "    \"friday\": {\"open\": \"HH:mm\", \"close\": \"HH:mm\"},\n",
    "    \"saturday\": {\"open\": \"HH:mm\", \"close\": \"HH:mm\"},\n",
    "    \"sunday\": {\"open\": \"HH:mm\", \"close\": \"HH:mm\"}\n",
    "  },\n",
    "  \"contacts\" : {\n",
    "    \"phone_number\": null,\n",
    "    \"mobile\" : null,\n",
    "    \"website\": \"URL del sitio web\",\n",
    "    \"instagram\": \"@nombre de usuario instagram\",\n",
    "    \"facebook\": \"URL de la página de Facebook\"\n",
    "  },\n",
    "  \"type_establishment\": \"Tipo de establecimiento\",\n",
    "  \"specialty\": [],\n",
    "  \"parking\": true,\n",
    "  \"reservations\": true,\n",
    "  \"payment_methods\": {\n",
    "    \"cash_national\": true,\n",
    "    \"digital_transfer_national\": true,\n",
    "    \"usd_cash\": true,\n",
    "    \"usd_transfer\": true,\n",
    "    \"mlc\": true\n",
    "  },\n",
    "  \"delivery_areas\": true,\n",
    "  \"power_generator\": true ,\n",
    "  \"menu\": {\n",
    "    \"appetizer\": [\n",
    "      {\"name\": \"Nombre del entrante\", \"price\": 0 },\n",
    "      {\"name\": \"Nombre del entrante\", \"price\": 0}\n",
    "    ],\n",
    "    \"main_course\": [\n",
    "      {\"name\": \"Nombre del plato\", \"price\": 0 },\n",
    "      {\"name\": \"Nombre del plato\", \"price\": 0 }\n",
    "    ],\n",
    "    \"garrison\": [\n",
    "      {\"name\": \"Nombre del acompañamiento\", \"price\": 0 },\n",
    "      {\"name\": \"Nombre del acompañamiento\", \"price\": 0 }\n",
    "    ],\n",
    "    \"desserts\": [\n",
    "      {\"name\": \"Nombre del postre\", \"price\": 0 },\n",
    "      {\"name\": \"Nombre del postre\", \"price\": 0}\n",
    "    ],\n",
    "    \"drinks\": [\n",
    "      {\"name\": \"Nombre de la bebida\", \"price\": 0 },\n",
    "      {\"name\": \"Nombre de la bebida\", \"price\": 0 }\n",
    "    ]\n",
    "  },\n",
    "  \"service_charge_percentage\": 0\n",
    "}"
   ]
  },
  {
   "cell_type": "markdown",
   "metadata": {},
   "source": [
    "A continuación, presentaré las profesiones que se tendrán en cuenta en el proyecto con sus salarios en Cuba:  \n",
    "(esta informacion fue extraida de la Gaceta Oficial No.69 de 2020) "
   ]
  },
  {
   "cell_type": "code",
   "execution_count": null,
   "metadata": {},
   "outputs": [],
   "source": [
    "professions = bp.show_professions_salary(bp.json_salary_cuba)\n",
    "professions"
   ]
  },
  {
   "cell_type": "markdown",
   "metadata": {},
   "source": [
    "***\n",
    "La Habana es una provincia muy heterogénea, cada municipio tiene su propia identidad, historia y características distintivas que se traducen en variaciones en el estilo de vida de sus habitantes, el tipo de actividades comerciales y las infraestructuras disponibles. Estos municipios varían en términos de desarrollo urbano, nivel de servicios, acceso a recursos y la distribución de la población. Por ello tomé tres municipios que consideré interesante analizar por separado porque cada uno tiene su magia:  \n",
    "\n",
    "~**Playa** es uno de los municipios más exclusivos de La Habana. Se ubica en la zona oeste de la ciudad y se caracteriza por su gran desarrollo urbanístico y su cercanía a la costa. Aquí se encuentran algunas de las áreas más modernas de la capital, con viviendas de alto estándar, centros de negocios internacionales y amplias avenidas. La presencia de embajadas, sedes diplomáticas y zonas de lujo resalta la condición de municipio de clase alta. Además, Playa alberga la famosa zona de Miramar, un barrio residencial de élite, y Cubanacán, que cuenta con complejos turísticos y recreativos. Por lo que se podria considerar como un municipio mas exclusivo.  \n",
    "\n",
    "~**Centro Habana** es uno de los municipios más emblemáticos y, al mismo tiempo, uno de los más contrastantes de la ciudad. Su ubicación en el corazón de la Habana lo convierte en un lugar muy rentable para negocios porque hay una mayor densidad poblacional y en los lugares más intrincados las cosas son un poco...peligrosas por la gran diversidad de personas que aquí residen. Por lo que lo convierte en un punto de análisis pues no es exclusivo pero es donde residen la mayoía de habaneros.\n",
    "\n",
    "~Mientras que **Diez de Octubre** es un municipio más pequeño, con menos actividad urbana y no es reconocido por ser muy lujoso, por lo que podría ser interesante contrastar estos tres municipios los cuales presentan características diferentes.  \n",
    "\n",
    "***"
   ]
  },
  {
   "cell_type": "markdown",
   "metadata": {},
   "source": [
    "Para un análisis más profundo de estos tres municipios se seleccionaron 30 lugares aleatorios por cada municipio, mientras que de los otros 12 se seleccionaron 10. Se va a tomar una comida en un restaurante como un plato principal y una bebida. Observando la estructura del json observamos que hay 5 categorias las cuales corresponden a: entrantes(tostones, croquetas y picadera), plato principal(pesacados, pollos, res), acompañamientos(ensaladas, arroces), postre(flan, tartas, helados) y bebidas(cerveza, agua, jugos). Pero si analizamos la cantidad de lugares que tienen todas las categorias resulta lo siguiente:"
   ]
  },
  {
   "cell_type": "code",
   "execution_count": null,
   "metadata": {},
   "outputs": [],
   "source": [
    "filtred = bp.filter_restaurant(\"Playa\")\n",
    "bp.plot_menu_categories_pie_chart(filtred, \"Playa\")"
   ]
  },
  {
   "cell_type": "code",
   "execution_count": null,
   "metadata": {},
   "outputs": [],
   "source": [
    "filtred_ch = bp.filter_restaurant(\"Centro Habana\")\n",
    "bp.plot_menu_categories_pie_chart(filtred_ch, \"Centro Habana\")"
   ]
  },
  {
   "cell_type": "code",
   "execution_count": null,
   "metadata": {},
   "outputs": [],
   "source": [
    "filtred_d= bp.filter_restaurant(\"Diez de Octubre\")\n",
    "bp.plot_menu_categories_pie_chart(filtred_d, \"Diez de Octubre\")"
   ]
  },
  {
   "cell_type": "markdown",
   "metadata": {},
   "source": [
    "Aunque en Centro Habana no sea tan alarmante la cantidad de sitios que no tienen las 5 categorias vemos que en playa y en Diez de Octubre no es así. Si hacemos un analisis de cada categoria ocurre lo siguiente:"
   ]
  },
  {
   "cell_type": "code",
   "execution_count": null,
   "metadata": {},
   "outputs": [],
   "source": [
    "bp.plot_category_comparison_for_municipalities(df)"
   ]
  },
  {
   "cell_type": "markdown",
   "metadata": {},
   "source": [
    "Con esta grafica podemos observar que Diez de Octubre es el unico municipio el cual tiene un 100% de restaurantes con la categoria de menu principal, mientras que en Playa hay 3 que no lo presentan y Centro Habana es el mas critico con 7 que no lo presentan, otra categoria que puede llamarnos la atencion es la de bebidas, ya que es en el que mas coinciden los valores en los municipios."
   ]
  },
  {
   "cell_type": "markdown",
   "metadata": {},
   "source": [
    "Si nos interesa saber cual es el precio promedio de una comida en estos municipios tendriamos que ver cuales son los lugares que ofertan lo que considero como una comida, un plato principal y una bebida, entonces nuestro analisis de una comida promedio quedaria para los siguientes restaurantes:"
   ]
  },
  {
   "cell_type": "code",
   "execution_count": null,
   "metadata": {},
   "outputs": [],
   "source": [
    "categories = bp.filter_restaurants_by_categories(df, [\"Centro Habana\", \"Diez de Octubre\", \"Playa\"], {\"drinks\": \"drinks\", \"main_course\": \"main_course\"})\n",
    "categories"
   ]
  },
  {
   "cell_type": "markdown",
   "metadata": {},
   "source": [
    "Entonces quedaron 21 restaurantes de Centro Habana, 26 de Diez de Octubre y 23 de Playa.  \n",
    "Con esta informacion ya podemos hacer un analisis de cada uno de estos municipios."
   ]
  },
  {
   "cell_type": "markdown",
   "metadata": {},
   "source": [
    "# Centro Habana"
   ]
  },
  {
   "cell_type": "code",
   "execution_count": null,
   "metadata": {},
   "outputs": [],
   "source": [
    "prom_ch_mc = bp.find_average_price_main_course(categories, [\"Centro Habana\"])\n",
    "print(f\"El precio de un plato principal promedia los {prom_ch_mc} pesos\" )\n",
    "prom_ch_d= bp.find_average_price_drinks(categories, [\"Centro Habana\"])\n",
    "print(f\"El precio de una bebida promedia los {prom_ch_d} pesos\" )\n",
    "total_ch = prom_ch_d + prom_ch_mc\n",
    "print(f\"Por lo tanto, una comida en un restaurante en Centro Habana promedio puede costar {total_ch} pesos\")"
   ]
  },
  {
   "cell_type": "markdown",
   "metadata": {},
   "source": [
    "Si una comida promedio en Centro Habana es de 3731 pesos esto equivale al 64.24% del salario de un medico, tengase en cuenta que es para una sola persona, o sea, resulta un gran gasto en una sola noche. Sin contar los pensionados que es un 215.29% de su salario, mas del doble de su salario mensual, para un pensionado seria imposible ir a un restaurante y consumir lo basico. Son resultados realmente tristes, veamos como es el comportamineto de una comida en cada restaurante, tal vez existan algunps sitios muy caros y otros mas baratos y resulten mas asequibles a un medico, profesor o pensionado. "
   ]
  },
  {
   "cell_type": "code",
   "execution_count": null,
   "metadata": {},
   "outputs": [],
   "source": [
    "rest = bp.restuarant_names_list(categories, \"Centro Habana\")\n",
    "prom = bp.find_prom_price_for_restaurants_list(categories, rest)\n",
    "bp.plot_prom_prices_for_restaurants(rest, prom)"
   ]
  },
  {
   "cell_type": "markdown",
   "metadata": {},
   "source": [
    "Como podemos observar, hay lugares donde es mas asequible el precio para una sola persona pero aun asi sigue representando un 51.12% del salario de un pensionado en una sola comida en el lugar mas barato. Ademas podemos observar que en 7 lugares los precios oscilan de los 3000 a los 4000 pesos, menos de 1000 pesos se encuentran dos lugares: Cafe Boulevard e Ivonne Cafe. Que ambos tengan la palabra cafe en su nombre no es coincidencia, ya que comunican al consumidor en lo que se especializan en ofertar: cafe. Por lo tanto visualicemos estos menus"
   ]
  },
  {
   "cell_type": "markdown",
   "metadata": {},
   "source": [
    "## Cafe Boulevard"
   ]
  },
  {
   "cell_type": "code",
   "execution_count": null,
   "metadata": {},
   "outputs": [],
   "source": [
    "bp.show_menu(categories, \"Cafe Bulevar\")"
   ]
  },
  {
   "cell_type": "markdown",
   "metadata": {},
   "source": [
    "Podemos notar que lo que ofertan en su seccion de mai_course(plato principal) son platos sencillos, mas como acompañamiento que una comida realmente y las bebidas oscilan en precios bastantes asequibles si lo que deseas es una bebida sencilla, pero, donde estan los cafes?"
   ]
  },
  {
   "cell_type": "markdown",
   "metadata": {},
   "source": [
    "## Ivonne Café"
   ]
  },
  {
   "cell_type": "code",
   "execution_count": null,
   "metadata": {},
   "outputs": [],
   "source": [
    "bp.show_menu(categories, \"Ivonne Café\")"
   ]
  },
  {
   "cell_type": "markdown",
   "metadata": {},
   "source": [
    "Aqui podemos observar un comportamiento similar, ofertan algunas pizzas con un precio mas asequible, ya que esta no es la especialidad y luego la mayoria de las ofertas en su menu son cafes que no sobrepasan los 300 pesos, a excepcion de Frapuchino que siempre tienen un valor mayor al resto de derivados del cafe."
   ]
  },
  {
   "cell_type": "markdown",
   "metadata": {},
   "source": [
    "Entonces, si lo que nos interesa es tener una comida en si, estos lugares no podrian ser referencia, ya que nuestros estomagos cubanos no se llenarian con una pizza pequeña o una racion minima de fajitas de pollo. Otro aspecto que puede llamarnos la atencion es que para un medico, que es el que mayor sueldo tiene de todas las profesiones cenar en el restuarante Bleco Havana representa poco mas del 100% de su sueldo. Una cifra alarmante, pues los medicos estan reconocidos mundialmente como profesionales bien pagados, que pueden permitirse una vida de lujos, y un medico cubano no podria ir a un restaurante lujoso en Centro Habana.  \n",
    "Continuando con la idea de los Cafes, debemos excluir Ivonne Cafe y Cafe Boulevard si queremos analizar los precios de una comida en Centro Habana y el salario promedio."
   ]
  },
  {
   "cell_type": "code",
   "execution_count": null,
   "metadata": {},
   "outputs": [],
   "source": [
    "analisis_1 = bp.filter_restaurants_not_name(categories,\"Centro Habana\", [\"Ivonne Café\", \"Cafe Bulevar\"])\n",
    "analisis_1"
   ]
  },
  {
   "cell_type": "markdown",
   "metadata": {},
   "source": [
    "Luego con este DataFrame ya creado podemos proceder a nuevamente calcular el promedio de una comida."
   ]
  },
  {
   "cell_type": "code",
   "execution_count": null,
   "metadata": {},
   "outputs": [],
   "source": [
    "prom_ch_mc_1 = bp.find_average_price_main_course(analisis_1 , [\"Centro Habana\"])\n",
    "print(f\"El precio de un plato principal promedia los {prom_ch_mc_1} pesos\" )\n",
    "prom_ch_d_1= bp.find_average_price_drinks(analisis_1, [\"Centro Habana\"])\n",
    "print(f\"El precio de una bebida promedia los {prom_ch_d_1} pesos\" )\n",
    "total_ch_1 = prom_ch_d_1 + prom_ch_mc_1\n",
    "print(f\"Por lo tanto, una comida en un restaurante en Centro Habana promedio puede costar {total_ch_1} pesos\")"
   ]
  },
  {
   "cell_type": "markdown",
   "metadata": {},
   "source": [
    "Vemos que con este reajuste los valores de los precios promedios varian, pero es porque realemnte estamos analizando la fraccion de restaurantes de nuestro interes. Ahora si podemos observar lo siguiente:"
   ]
  },
  {
   "cell_type": "code",
   "execution_count": null,
   "metadata": {},
   "outputs": [],
   "source": [
    "bp.plot_salary_percentage(bp.json_salary_cuba, total_ch_1, \"Centro Habana\")"
   ]
  },
  {
   "cell_type": "markdown",
   "metadata": {},
   "source": [
    "El caso de los pensionados es extremo, realmente es triste que un trabajador cubano que le dedico 30 anos de servicio al pais no pueda ir a un restaurante, ya que aqui se esta tomando el 100% del salario, sin contar con todos los gastos que trae la vida cotidiana, el transpprte, un par de zapatos, los alimentos basicos, no estamos hablando de lujos, estamos hablando de lo minimo que se necesita para vivir dignamente.  \n",
    "Ahora veamos la cantidad de horas que deben trabajar supuestamente para poder consumir aqui."
   ]
  },
  {
   "cell_type": "code",
   "execution_count": null,
   "metadata": {},
   "outputs": [],
   "source": [
    "bp.plot_working_hours_by_profession(bp.dic_generator(bp.json_salary_cuba), total_ch_1)"
   ]
  },
  {
   "cell_type": "markdown",
   "metadata": {},
   "source": [
    "# Diez de Octubre"
   ]
  },
  {
   "cell_type": "code",
   "execution_count": null,
   "metadata": {},
   "outputs": [],
   "source": [
    "prom_do_mc = bp.find_average_price_main_course(categories, [\"Diez de Octubre\"])\n",
    "print(f\"El precio de un plato principal promedia los {prom_do_mc} pesos\" )\n",
    "prom_do_d= bp.find_average_price_drinks(categories, [\"Diez de Octubre\"])\n",
    "print(f\"El precio de una bebida promedia los {prom_do_d} pesos\" )\n",
    "total_d = prom_do_d + prom_do_mc\n",
    "print(f\"Por lo tanto, una comida en un restaurante en Diez de Octubre promedio puede costar {total_d} pesos\")"
   ]
  },
  {
   "cell_type": "markdown",
   "metadata": {},
   "source": [
    "Analizando Diez de Octubre vemos que el precio promedio es de 3936 pesos, lo cual representa un 64.75% del salario de un medico y un 227.12% para pensionados, cifras bastantes similares que en Centro Habana, analicemos cada restaurante para estudiar su comportamiento."
   ]
  },
  {
   "cell_type": "code",
   "execution_count": null,
   "metadata": {},
   "outputs": [],
   "source": [
    "rest = bp.restuarant_names_list(categories, \"Diez de Octubre\")\n",
    "prom = bp.find_prom_price_for_restaurants_list(categories, rest)\n",
    "bp.plot_prom_prices_for_restaurants(rest, prom)"
   ]
  },
  {
   "cell_type": "markdown",
   "metadata": {},
   "source": [
    "Al ver este grafico lo primero que notamos es una barra que sobresale por diferencia entre el resta, que dice que una comida en Brasserie 255 es de 8006 pesos cubanos, pero si observamos el resto las mas caras son: dos sitios que sus precios estan entre 5500 y 6000 pesos, luego le sigue uno que sus precios oscilan los 4500 pesos, hay tres sitios que sus precios estan entre 3001 y 4000 pesos, y los otros 18 restaurantes oscilan entre los 700 y 3000 pesos. Por lo que se puede evidenciar la anomalia con el restaurante Brasserire 255, que es evidentemente caro, una comida en este sitio se ve asi para cada profesion:"
   ]
  },
  {
   "cell_type": "code",
   "execution_count": null,
   "metadata": {},
   "outputs": [],
   "source": [
    "prom_brasserie = bp.prom_per_restaurante(df, \"Brasserie 255\")\n",
    "bp.plot_salary_percentage(bp.json_salary_cuba, prom_brasserie , \"Brasserie 255\")"
   ]
  },
  {
   "cell_type": "markdown",
   "metadata": {},
   "source": [
    "Creo que es bastante evidente que comer un plato de este restaurante es un verdadero \"Lujo para el Paladar\". cual podria ser la combinacion mas barata para comer aqui?"
   ]
  },
  {
   "cell_type": "code",
   "execution_count": null,
   "metadata": {},
   "outputs": [],
   "source": [
    "cheap_main_course = bp.find_cheap_price_restaurant(categories, \"Brasserie 255\", \"main_course\")\n",
    "cheap_drinks = bp.find_cheap_price_restaurant(categories, \"Brasserie 255\", \"drinks\")\n",
    "cheap_meal = cheap_main_course['price'] + cheap_drinks['price']\n",
    "cheap_meal"
   ]
  },
  {
   "cell_type": "markdown",
   "metadata": {},
   "source": [
    "La combinacion entre el plato mas barato y la bebida mas barata del lugar de un total de 4350 pesos, lo cual representa un 74.87% del salario de un medico, sigue siendo precio muy alto.  \n",
    "Viendo el resto de restaurantes de Diez de Octubre vemos que no es un comportamiento usual estos precios tan altos, por lo que descarto este restaurante."
   ]
  },
  {
   "cell_type": "code",
   "execution_count": null,
   "metadata": {},
   "outputs": [],
   "source": [
    "analisis_2 = bp.filter_restaurants_not_name(categories,\"Diez de Octubre\", [\"Brasserie 255\"])\n",
    "analisis_2"
   ]
  },
  {
   "cell_type": "code",
   "execution_count": null,
   "metadata": {},
   "outputs": [],
   "source": [
    "prom_do_mc_1 = bp.find_average_price_main_course(analisis_2, [\"Diez de Octubre\"])\n",
    "print(f\"El precio de un plato principal promedia los {prom_do_mc_1} pesos\" )\n",
    "prom_do_d_1 = bp.find_average_price_drinks(analisis_2, [\"Diez de Octubre\"])\n",
    "print(f\"El precio de una bebida promedia los {prom_do_d_1} pesos\" )\n",
    "total_d_1 = prom_do_d_1 + prom_do_mc_1\n",
    "print(f\"Por lo tanto, una comida en un restaurante en Diez de Octubre promedio puede costar {total_d_1} pesos\")"
   ]
  },
  {
   "cell_type": "markdown",
   "metadata": {},
   "source": [
    "Con este resultado vemos que los precios entre Centro Habana y Diez de Octubre se asemejan."
   ]
  },
  {
   "cell_type": "code",
   "execution_count": null,
   "metadata": {},
   "outputs": [],
   "source": [
    "bp.plot_salary_percentage(bp.json_salary_cuba, total_d_1 , \"Diez de Octubre\")"
   ]
  },
  {
   "cell_type": "markdown",
   "metadata": {},
   "source": [
    "Cuantas horas debo trabajar entonces para consumir en Diez de Octubre."
   ]
  },
  {
   "cell_type": "code",
   "execution_count": null,
   "metadata": {},
   "outputs": [],
   "source": [
    "bp.plot_working_hours_by_profession(bp.dic_generator(bp.json_salary_cuba), total_d_1)"
   ]
  },
  {
   "cell_type": "markdown",
   "metadata": {},
   "source": [
    "# Playa"
   ]
  },
  {
   "cell_type": "code",
   "execution_count": null,
   "metadata": {},
   "outputs": [],
   "source": [
    "prom_p_mc = bp.find_average_price_main_course(categories, [\"Playa\"])\n",
    "print(f\"El precio de un plato principal promedia los {prom_p_mc} pesos\" )\n",
    "prom_p_d= bp.find_average_price_drinks(categories, [\"Playa\"])\n",
    "print(f\"El precio de una bebida promedia los {prom_p_d} pesos\" )\n",
    "total_p = prom_p_d + prom_p_mc\n",
    "print(f\"Por lo tanto, una comida en un restaurante en Playa promedio puede costar {total_p} pesos\")"
   ]
  },
  {
   "cell_type": "markdown",
   "metadata": {},
   "source": [
    "En el municipio de Playa lo primero que podemos notar es que el precio promedio de una comida es mas alto que en Diez de Octubre y Centro Habana, lo cual tiene cooncordancia con la fama de Playa de ser un lugar caro y mas \"exclusivo\" que otros municipios."
   ]
  },
  {
   "cell_type": "code",
   "execution_count": null,
   "metadata": {},
   "outputs": [],
   "source": [
    "rest = bp.restuarant_names_list(categories, \"Playa\")\n",
    "prom = bp.find_prom_price_for_restaurants_list(categories, rest)\n",
    "bp.plot_prom_prices_for_restaurants(rest, prom)"
   ]
  },
  {
   "cell_type": "markdown",
   "metadata": {},
   "source": [
    "Aqui podemos obsercar una anomalia con el restaurante El Palenque, asi que no se tendra en cuenta ya que esto puede ser resultado de un error en la recopilacion de datos."
   ]
  },
  {
   "cell_type": "code",
   "execution_count": null,
   "metadata": {},
   "outputs": [],
   "source": [
    "analisis_3 = bp.filter_restaurants_not_name(categories, \"Playa\", [\"El Palenque\"])\n",
    "analisis_3"
   ]
  },
  {
   "cell_type": "markdown",
   "metadata": {},
   "source": [
    "Ahora con esta consideracion procedemos a calcular nuevamente los precios promedios."
   ]
  },
  {
   "cell_type": "code",
   "execution_count": null,
   "metadata": {},
   "outputs": [],
   "source": [
    "prom_p_mc_1 = bp.find_average_price_main_course(analisis_3, [\"Playa\"])\n",
    "print(f\"El precio de un plato principal promedia los {prom_p_mc_1} pesos\" )\n",
    "prom_p_d_1 = bp.find_average_price_drinks(analisis_3, [\"Playa\"])\n",
    "print(f\"El precio de una bebida promedia los {prom_p_d_1} pesos\" )\n",
    "total_p_1 = prom_p_d_1 + prom_p_mc_1\n",
    "print(f\"Por lo tanto, una comida en un restaurante en Playa promedio puede costar {total_p_1} pesos\")"
   ]
  },
  {
   "cell_type": "markdown",
   "metadata": {},
   "source": [
    "Ahora respondamos a la interrogante de cuantas horas debo trabajar para cenar en Playa"
   ]
  },
  {
   "cell_type": "code",
   "execution_count": null,
   "metadata": {},
   "outputs": [],
   "source": [
    "bp.plot_working_hours_by_profession(bp.dic_generator(bp.json_salary_cuba), total_p_1)"
   ]
  },
  {
   "cell_type": "markdown",
   "metadata": {},
   "source": [
    "# Resto de municipios"
   ]
  },
  {
   "cell_type": "markdown",
   "metadata": {},
   "source": [
    "Ahora surge una duda: como seran estos comportamientos en el resto de municipios?  \n",
    "Para ello debemos crear un nuevo DataFrame el cual contendra a los restaurantes de los otros municipios y que tambien tengan platos en el main_course y en drinks."
   ]
  },
  {
   "cell_type": "code",
   "execution_count": null,
   "metadata": {},
   "outputs": [],
   "source": [
    "r = [\"Arroyo Naranjo\", \"Boyeros\", \"Cerro\", \"Cotorro\", \"Guanabacoa\", \"Habana del este\", \"Habana Vieja\", \"La Lisa\", \"Marianao\", \"Plaza de la Revolucion\", \"Regla\", \"San Miguel\"]\n",
    "categories_r = bp.filter_restaurants_by_categories(df, r, {\"drinks\": \"drinks\", \"main_course\": \"main_course\"})\n",
    "categories_r"
   ]
  },
  {
   "cell_type": "code",
   "execution_count": null,
   "metadata": {},
   "outputs": [],
   "source": [
    "prom_r_mc = bp.find_average_price_main_course(categories_r, r)\n",
    "print(f\"El precio de un plato principal promedia los {prom_r_mc} pesos\" )\n",
    "prom_r_d= bp.find_average_price_drinks(categories_r, r)\n",
    "print(f\"El precio de una bebida promedia los {prom_r_d} pesos\" )\n",
    "total_r = prom_r_d + prom_r_mc\n",
    "print(f\"Por lo tanto, una comida en un restaurante en Centro Habana promedio puede costar {total_r} pesos\")"
   ]
  },
  {
   "cell_type": "markdown",
   "metadata": {},
   "source": [
    "Con estos resultados que arroja, vale preguntarse como es el comportamiento en cada municipio:"
   ]
  },
  {
   "cell_type": "code",
   "execution_count": null,
   "metadata": {},
   "outputs": [],
   "source": [
    "bp.plot_prom_price_for_municipalities(categories_r, r)"
   ]
  },
  {
   "cell_type": "markdown",
   "metadata": {},
   "source": [
    "Observamos que en casi todos los municipios ocurre lo mismo a excepcion de Habana Vieja, Plaza de la Revolucion, Cerro y Boyeros. Todos estos municipios tienen en comun, incluyendo a los tres ya analizados, que estan en zonas con un gran transito de personas, lo cual podria facilitar la apertura de negocios, Si hay una mayor cantidad de establecimeintos hay mayor probabilidad que hayan mas caros."
   ]
  },
  {
   "cell_type": "markdown",
   "metadata": {},
   "source": [
    "Teniendo en cuenta los resultados arrojados entre todos los municipios visualicemos la relacion con los salarios:"
   ]
  },
  {
   "cell_type": "code",
   "execution_count": null,
   "metadata": {},
   "outputs": [],
   "source": [
    "bp.plot_salary_percentage(bp.json_salary_cuba, total_r , \"los otros municipios\")"
   ]
  },
  {
   "cell_type": "markdown",
   "metadata": {},
   "source": [
    "Aunque aqui vemos una disminucion considerable siguen siendo inaccesibles.  \n",
    "Por ello se puede decir que en La Habana resulta imposible para un trabajador del estado consumir en algun restuarante, y si nos extendemos en toda Cuba veremos el mismo comportamiento.  "
   ]
  },
  {
   "cell_type": "markdown",
   "metadata": {},
   "source": [
    "Ahora procedo a mostrar una garfica donde se observa cuantas horas tiene que trabajar un profesional cubano para ir a consumir una comida a alguno de estos municipios"
   ]
  },
  {
   "cell_type": "code",
   "execution_count": null,
   "metadata": {},
   "outputs": [],
   "source": [
    "bp.plot_working_hours_by_profession(bp.dic_generator(bp.json_salary_cuba), total_r)"
   ]
  },
  {
   "cell_type": "markdown",
   "metadata": {},
   "source": [
    "Pero acaso esto es un fenomeno normal? En todos los paises del mundo ocurre lo mismo?  \n",
    "Anallicemos el pais que siempre viene a la mente de todos: Estados Unidos y otro pais, que es latinoamericano, en vias del desarrollo pero enfrenta igualmente problemas sociales y politicos, Uruguay. Porque ya vemos lo que representa para un cubano cenar en estos restaurantes pero para un extranjeros? Tengamos en cuenta que ahora los precios se toman en dolares, como esta el cambio en el toque en el momento en que se realiza esto, 1 peso cubano equivale a 340 dolares"
   ]
  },
  {
   "cell_type": "code",
   "execution_count": null,
   "metadata": {},
   "outputs": [],
   "source": [
    "t = [\"Centro Habana\", \"Diez de Octubre\", \"Playa\", \"Arroyo Naranjo\", \"Boyeros\", \"Cerro\", \"Cotorro\", \"Guanabacoa\", \"Habana del este\", \"Habana Vieja\", \"La Lisa\", \"Marianao\", \"Plaza de la Revolucion\", \"Regla\", \"San Miguel\"]\n",
    "filtred_df = bp.filter_restaurants_by_categories(df, t, {\"drinks\": \"drinks\", \"main_course\": \"main_course\"})\n",
    "total_prom_df = bp.plot_prom_price_for_municipalities_inter(filtred_df, t)"
   ]
  },
  {
   "cell_type": "markdown",
   "metadata": {},
   "source": [
    "Aqui podemos observar aproximadamente cuenta cuesta una comida sencilla en dolares, ahora que significacion tendra en los salarios de un extranjero?"
   ]
  },
  {
   "cell_type": "markdown",
   "metadata": {},
   "source": [
    "Para terminar: en las siguientes celdas le vamos a indicar que pase parametros para que usted mismo pueda observat en dependencia de que quiera consumir y en que resturante cuanto tendria que trabajar cada profesional."
   ]
  },
  {
   "cell_type": "markdown",
   "metadata": {},
   "source": [
    "Aqui ingrese el nombre de la profesion q desee, tiene que ser de estas opciones:  \n",
    "- médico  \n",
    "- profesor\n",
    "- científico o investigador titular  \n",
    "- periodista\n",
    "- chofer  \n",
    "- salario promedio"
   ]
  },
  {
   "cell_type": "code",
   "execution_count": null,
   "metadata": {},
   "outputs": [],
   "source": [
    "ingrese_aqui = \"salario promedio\""
   ]
  },
  {
   "cell_type": "code",
   "execution_count": null,
   "metadata": {},
   "outputs": [],
   "source": [
    "bp.plot_salary_percentage_for_profession_in_municipalities(filtred_df, bp.json_salary_world, ingrese_aqui, t)"
   ]
  },
  {
   "cell_type": "markdown",
   "metadata": {},
   "source": [
    "Aunque se podria pensar que esta grafica es un error no lo es, solo muestra una bochornosa realidad, para los extranjeros una comida en cuba no representa literalmente nada en su salario, es realmente triste que nuestros profesionales no puedan darse ciertos lujos que un extranjero cualquiera lo ve como algo cotidiano.  \n",
    "***"
   ]
  },
  {
   "cell_type": "markdown",
   "metadata": {},
   "source": [
    "Antes de dar las conclusiones aqui hay una funcion que te permite interactuar para saber cuantas horas tienes que trabajar en dependencia de tu profesion si quieres ir a un restaurante especifico, debes seguir las instrucciones paso a paso:"
   ]
  },
  {
   "cell_type": "markdown",
   "metadata": {},
   "source": [
    "Primero elija el municipio en el cual quisiera consumir"
   ]
  },
  {
   "cell_type": "code",
   "execution_count": null,
   "metadata": {},
   "outputs": [],
   "source": [
    "mun = \"Arroyo Naranjo\""
   ]
  },
  {
   "cell_type": "code",
   "execution_count": null,
   "metadata": {},
   "outputs": [],
   "source": [
    "f = bp.filter_restaurant(mun)"
   ]
  },
  {
   "cell_type": "markdown",
   "metadata": {},
   "source": [
    "Cuantas personas van? Elimine el uno si va con acompanante y reemplace por la cantidad de personas que son en total, sino deje el 1"
   ]
  },
  {
   "cell_type": "code",
   "execution_count": null,
   "metadata": {},
   "outputs": [],
   "source": [
    "count = 1"
   ]
  },
  {
   "cell_type": "markdown",
   "metadata": {},
   "source": [
    "Necesito que me de la informacion de la cantidad de entrantes, menus principales, guarniciones, postres y bebidas quiere."
   ]
  },
  {
   "cell_type": "code",
   "execution_count": null,
   "metadata": {},
   "outputs": [],
   "source": [
    "cell = {\n",
    "    \"appetizer\": 0,\n",
    "    \"main_course\": 0,\n",
    "    \"garrison\": 0,\n",
    "    \"desserts\": 0,\n",
    "    \"drinks\": 0\n",
    "}"
   ]
  },
  {
   "cell_type": "code",
   "execution_count": null,
   "metadata": {},
   "outputs": [],
   "source": [
    "data = {}\n",
    "for i in list(cell.keys()):\n",
    "    if cell[i] != 0:\n",
    "         data[i]= i\n",
    "ff = bp.filter_restaurants_by_categories(f, [mun], data)"
   ]
  },
  {
   "cell_type": "markdown",
   "metadata": {},
   "source": [
    "Del DataFrame que se muestra a continuacion tienes una lista de nombres en la columna name, ekige el que quieras e ingresa su nombre en la siguiente celda:"
   ]
  },
  {
   "cell_type": "code",
   "execution_count": null,
   "metadata": {},
   "outputs": [],
   "source": [
    "ff"
   ]
  },
  {
   "cell_type": "code",
   "execution_count": null,
   "metadata": {},
   "outputs": [],
   "source": [
    "name = \"Atlanta\""
   ]
  },
  {
   "cell_type": "code",
   "execution_count": null,
   "metadata": {},
   "outputs": [],
   "source": [
    "bp.plot_hours_meals_rest(bp.json_salary_cuba, ff, cell, name, count)"
   ]
  },
  {
   "cell_type": "markdown",
   "metadata": {},
   "source": [
    "***\n",
    "# Concluisiones\n",
    "\n",
    "A través de este análisis, se evidencia que el verdadero problema no es el costo de las comidas en los restaurantes, sino la devaluación de la moneda cubana y los salarios insuficientes. Los salarios no reflejan el valor real de la moneda, lo que hace que incluso actividades cotidianas como comer fuera se conviertan en un lujo para la mayoría.\n",
    "\n",
    "Los **profesionales cubanos**, quienes invierten años en su formación y juegan un papel crucial en la sociedad, no reciben una compensación acorde con su preparación. A pesar de ser médicos, profesores o científicos, no pueden cubrir sus necesidades básicas, mucho menos disfrutar de un lujo como comer fuera. Esta realidad, normalizada en la sociedad cubana, muestra un desajuste económico provocado por la devaluación de la moneda, que hace que los salarios no tengan el mismo poder adquisitivo que en otros países.\n",
    "\n",
    "Los precios de los restaurantes no son altos comparados con estándares internacionales; el problema radica en la devaluación de la moneda cubana, que hace inaccesibles los servicios básicos para la mayoría, incluidos los profesionales. \n",
    "\n",
    "En resumen, más allá del costo de una comida, el verdadero desafío está en el **reconocimiento económico y social** que reciben los profesionales cubanos. Es urgente cuestionar este modelo y luchar por un cambio que les garantice una vida digna acorde con su formación y contribución a la sociedad."
   ]
  }
 ],
 "metadata": {
  "kernelspec": {
   "display_name": "Python 3",
   "language": "python",
   "name": "python3"
  },
  "language_info": {
   "codemirror_mode": {
    "name": "ipython",
    "version": 3
   },
   "file_extension": ".py",
   "mimetype": "text/x-python",
   "name": "python",
   "nbconvert_exporter": "python",
   "pygments_lexer": "ipython3",
   "version": "3.12.6"
  }
 },
 "nbformat": 4,
 "nbformat_minor": 2
}
